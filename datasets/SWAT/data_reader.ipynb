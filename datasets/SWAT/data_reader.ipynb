{
 "cells": [
  {
   "cell_type": "code",
   "execution_count": 1,
   "metadata": {},
   "outputs": [],
   "source": [
    "import numpy as np\n",
    "test_X = np.load('X_test.npy')\n",
    "test_Y = np.load('y_test.npy')"
   ]
  },
  {
   "cell_type": "code",
   "execution_count": 6,
   "metadata": {},
   "outputs": [
    {
     "data": {
      "text/plain": [
       "array([[ 0.65287981,  0.64132335,  0.62761705, ...,  0.61418011,\n",
       "         0.60181725,  0.59832313],\n",
       "       [-0.68240952, -0.68209588, -0.68052927, ..., -0.71310953,\n",
       "        -0.71060281, -0.7090362 ],\n",
       "       [ 0.69386093,  0.69386093,  0.69386093, ...,  0.69386093,\n",
       "         0.69386093,  0.69386093],\n",
       "       ...,\n",
       "       [ 0.        ,  0.        ,  0.        , ...,  0.        ,\n",
       "         0.        ,  0.        ],\n",
       "       [-0.09582784, -0.09582784, -0.09582784, ..., -0.09582784,\n",
       "        -0.09582784, -0.09582784],\n",
       "       [ 0.        ,  0.        ,  0.        , ...,  0.        ,\n",
       "         0.        ,  0.        ]])"
      ]
     },
     "execution_count": 6,
     "metadata": {},
     "output_type": "execute_result"
    }
   ],
   "source": [
    "test_X[171]"
   ]
  },
  {
   "cell_type": "code",
   "execution_count": 7,
   "metadata": {},
   "outputs": [
    {
     "data": {
      "text/plain": [
       "array([1], dtype=uint8)"
      ]
     },
     "execution_count": 7,
     "metadata": {},
     "output_type": "execute_result"
    }
   ],
   "source": [
    "test_Y[172]"
   ]
  },
  {
   "cell_type": "code",
   "execution_count": 5,
   "metadata": {},
   "outputs": [
    {
     "data": {
      "text/plain": [
       "(array([ 171,  172,  173,  174,  175,  176,  177,  178,  179,  180,  181,\n",
       "         396,  397,  398,  399,  400,  401,  402,  403,  404,  568,  569,\n",
       "         574,  575,  576,  577,  578,  579,  580,  581,  582,  871,  872,\n",
       "         873,  874,  875,  876,  877,  878,  879,  880, 1652, 1653, 1654,\n",
       "        1655, 1656, 1657, 1658, 1659, 1660, 1667, 1668, 1669, 1670, 1671,\n",
       "        1679, 1680, 1681, 1682, 1683, 1684, 1685, 1686, 1687, 1688, 1689,\n",
       "        1690, 1691, 1692, 1768, 1769, 1770, 1771, 1772, 1773, 1774, 1775,\n",
       "        1776, 1777, 1778, 1779, 1780, 1781, 1782, 1783, 1784, 1785, 1786,\n",
       "        1787, 1788, 1789, 1790, 1791, 1792, 1793, 1794, 1795, 1796],\n",
       "       dtype=int64),\n",
       " array([0, 0, 0, 0, 0, 0, 0, 0, 0, 0, 0, 0, 0, 0, 0, 0, 0, 0, 0, 0, 0, 0,\n",
       "        0, 0, 0, 0, 0, 0, 0, 0, 0, 0, 0, 0, 0, 0, 0, 0, 0, 0, 0, 0, 0, 0,\n",
       "        0, 0, 0, 0, 0, 0, 0, 0, 0, 0, 0, 0, 0, 0, 0, 0, 0, 0, 0, 0, 0, 0,\n",
       "        0, 0, 0, 0, 0, 0, 0, 0, 0, 0, 0, 0, 0, 0, 0, 0, 0, 0, 0, 0, 0, 0,\n",
       "        0, 0, 0, 0, 0, 0, 0, 0, 0, 0], dtype=int64))"
      ]
     },
     "execution_count": 5,
     "metadata": {},
     "output_type": "execute_result"
    }
   ],
   "source": [
    "id = np.where(test_Y == 1)\n",
    "id"
   ]
  }
 ],
 "metadata": {
  "kernelspec": {
   "display_name": "Python 3.10.6 64-bit",
   "language": "python",
   "name": "python3"
  },
  "language_info": {
   "codemirror_mode": {
    "name": "ipython",
    "version": 3
   },
   "file_extension": ".py",
   "mimetype": "text/x-python",
   "name": "python",
   "nbconvert_exporter": "python",
   "pygments_lexer": "ipython3",
   "version": "3.10.6"
  },
  "orig_nbformat": 4,
  "vscode": {
   "interpreter": {
    "hash": "ceb4bfb641b0783044b652f84fa4da1e13fe89464d09974bae0ff10892d6a6b5"
   }
  }
 },
 "nbformat": 4,
 "nbformat_minor": 2
}
